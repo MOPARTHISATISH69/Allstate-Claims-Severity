{
  "nbformat": 4,
  "nbformat_minor": 0,
  "metadata": {
    "colab": {
      "name": "1138.ipynb",
      "provenance": [],
      "collapsed_sections": [],
      "machine_shape": "hm"
    },
    "kernelspec": {
      "name": "python3",
      "display_name": "Python 3"
    },
    "accelerator": "GPU"
  },
  "cells": [
    {
      "cell_type": "code",
      "metadata": {
        "id": "eNkX4zsZQiT3"
      },
      "source": [
        "!pip install ipython-autotime\n",
        "%load_ext autotime"
      ],
      "execution_count": null,
      "outputs": []
    },
    {
      "cell_type": "code",
      "metadata": {
        "id": "rqObrMFN53A7"
      },
      "source": [
        "!pip install lightgbm"
      ],
      "execution_count": null,
      "outputs": []
    },
    {
      "cell_type": "code",
      "metadata": {
        "id": "fOHhQ_NsoSxU",
        "colab": {
          "base_uri": "https://localhost:8080/"
        },
        "outputId": "b3127f71-6a8b-4899-e9ab-d06225df981b"
      },
      "source": [
        "import warnings\n",
        "warnings.filterwarnings(\"ignore\")\n",
        "import pandas as pd\n",
        "%matplotlib inline\n",
        "import matplotlib.pyplot as plt\n",
        "import seaborn as sns\n",
        "import numpy as np\n",
        "from sklearn.preprocessing import StandardScaler\n",
        "from sklearn.model_selection import KFold\n",
        "from xgboost import XGBRegressor\n",
        "from sklearn.model_selection import RandomizedSearchCV,GridSearchCV\n",
        "from sklearn.neighbors import KNeighborsClassifier\n",
        "from sklearn.model_selection import train_test_split\n",
        "from sklearn.linear_model import LinearRegression,Ridge,Lasso,ElasticNet\n",
        "from sklearn.neighbors import KNeighborsRegressor\n",
        "from sklearn.ensemble import RandomForestRegressor,BaggingRegressor,ExtraTreesRegressor,AdaBoostRegressor,GradientBoostingRegressor\n",
        "from sklearn.metrics import mean_absolute_error\n",
        "from sklearn.tree import DecisionTreeRegressor\n",
        "from sklearn.svm import SVR\n",
        "from scipy.stats import skew,boxcox"
      ],
      "execution_count": null,
      "outputs": [
        {
          "output_type": "stream",
          "text": [
            "time: 9.28 ms\n"
          ],
          "name": "stdout"
        }
      ]
    },
    {
      "cell_type": "code",
      "metadata": {
        "id": "4ciOGqMloB5x",
        "colab": {
          "base_uri": "https://localhost:8080/"
        },
        "outputId": "85f1b274-10c6-4e70-a1e4-37d6a5f70afc"
      },
      "source": [
        "from google.colab import drive\n",
        "drive.mount('/content/drive')\n",
        "\n",
        "%cd /content/drive/My Drive/Applied AI Course/Assignments/23. Self Case Study 1\n"
      ],
      "execution_count": null,
      "outputs": [
        {
          "output_type": "stream",
          "text": [
            "Mounted at /content/drive\n",
            "/content/drive/My Drive/Applied AI Course/Assignments/23. Self Case Study 1\n",
            "time: 23 s\n"
          ],
          "name": "stdout"
        }
      ]
    },
    {
      "cell_type": "code",
      "metadata": {
        "id": "kid2UWytoWkD",
        "colab": {
          "base_uri": "https://localhost:8080/"
        },
        "outputId": "62c2ed18-f866-41f2-db6a-d79c4cb9a46b"
      },
      "source": [
        "\"\"\"\n",
        "Reading Train and Test data\n",
        "\"\"\"\n",
        "Train_Data = pd.read_csv('train.csv')\n",
        "Test_Data = pd.read_csv('test.csv')"
      ],
      "execution_count": null,
      "outputs": [
        {
          "output_type": "stream",
          "text": [
            "time: 4.58 s\n"
          ],
          "name": "stdout"
        }
      ]
    },
    {
      "cell_type": "code",
      "metadata": {
        "id": "iySKgqzvpHDN",
        "colab": {
          "base_uri": "https://localhost:8080/"
        },
        "outputId": "0c354d72-a92d-4521-fa34-2b8536d31029"
      },
      "source": [
        "r,c = Train_Data.shape   # r -> rows and c  --> columns # 188318 and 130"
      ],
      "execution_count": null,
      "outputs": [
        {
          "output_type": "stream",
          "text": [
            "time: 1.07 ms\n"
          ],
          "name": "stdout"
        }
      ]
    },
    {
      "cell_type": "code",
      "metadata": {
        "id": "bPDTepC5pD2n",
        "colab": {
          "base_uri": "https://localhost:8080/",
          "height": 261
        },
        "outputId": "a08c2f51-a992-4b6f-d608-38fae7c5f243"
      },
      "source": [
        "y_ = np.log1p(Train_Data['loss'])\n",
        "Train_Data.drop(['id','loss'], axis=1, inplace=True)\n",
        "Test_Data.drop(['id'], axis=1, inplace=True)\n",
        "\n",
        "Train_Test = pd.concat((Train_Data, Test_Data)).reset_index(drop=True)\n",
        "\n",
        "Train_Test.head()"
      ],
      "execution_count": null,
      "outputs": [
        {
          "output_type": "execute_result",
          "data": {
            "text/html": [
              "<div>\n",
              "<style scoped>\n",
              "    .dataframe tbody tr th:only-of-type {\n",
              "        vertical-align: middle;\n",
              "    }\n",
              "\n",
              "    .dataframe tbody tr th {\n",
              "        vertical-align: top;\n",
              "    }\n",
              "\n",
              "    .dataframe thead th {\n",
              "        text-align: right;\n",
              "    }\n",
              "</style>\n",
              "<table border=\"1\" class=\"dataframe\">\n",
              "  <thead>\n",
              "    <tr style=\"text-align: right;\">\n",
              "      <th></th>\n",
              "      <th>cat1</th>\n",
              "      <th>cat2</th>\n",
              "      <th>cat3</th>\n",
              "      <th>cat4</th>\n",
              "      <th>cat5</th>\n",
              "      <th>cat6</th>\n",
              "      <th>cat7</th>\n",
              "      <th>cat8</th>\n",
              "      <th>cat9</th>\n",
              "      <th>cat10</th>\n",
              "      <th>cat11</th>\n",
              "      <th>cat12</th>\n",
              "      <th>cat13</th>\n",
              "      <th>cat14</th>\n",
              "      <th>cat15</th>\n",
              "      <th>cat16</th>\n",
              "      <th>cat17</th>\n",
              "      <th>cat18</th>\n",
              "      <th>cat19</th>\n",
              "      <th>cat20</th>\n",
              "      <th>cat21</th>\n",
              "      <th>cat22</th>\n",
              "      <th>cat23</th>\n",
              "      <th>cat24</th>\n",
              "      <th>cat25</th>\n",
              "      <th>cat26</th>\n",
              "      <th>cat27</th>\n",
              "      <th>cat28</th>\n",
              "      <th>cat29</th>\n",
              "      <th>cat30</th>\n",
              "      <th>cat31</th>\n",
              "      <th>cat32</th>\n",
              "      <th>cat33</th>\n",
              "      <th>cat34</th>\n",
              "      <th>cat35</th>\n",
              "      <th>cat36</th>\n",
              "      <th>cat37</th>\n",
              "      <th>cat38</th>\n",
              "      <th>cat39</th>\n",
              "      <th>cat40</th>\n",
              "      <th>...</th>\n",
              "      <th>cat91</th>\n",
              "      <th>cat92</th>\n",
              "      <th>cat93</th>\n",
              "      <th>cat94</th>\n",
              "      <th>cat95</th>\n",
              "      <th>cat96</th>\n",
              "      <th>cat97</th>\n",
              "      <th>cat98</th>\n",
              "      <th>cat99</th>\n",
              "      <th>cat100</th>\n",
              "      <th>cat101</th>\n",
              "      <th>cat102</th>\n",
              "      <th>cat103</th>\n",
              "      <th>cat104</th>\n",
              "      <th>cat105</th>\n",
              "      <th>cat106</th>\n",
              "      <th>cat107</th>\n",
              "      <th>cat108</th>\n",
              "      <th>cat109</th>\n",
              "      <th>cat110</th>\n",
              "      <th>cat111</th>\n",
              "      <th>cat112</th>\n",
              "      <th>cat113</th>\n",
              "      <th>cat114</th>\n",
              "      <th>cat115</th>\n",
              "      <th>cat116</th>\n",
              "      <th>cont1</th>\n",
              "      <th>cont2</th>\n",
              "      <th>cont3</th>\n",
              "      <th>cont4</th>\n",
              "      <th>cont5</th>\n",
              "      <th>cont6</th>\n",
              "      <th>cont7</th>\n",
              "      <th>cont8</th>\n",
              "      <th>cont9</th>\n",
              "      <th>cont10</th>\n",
              "      <th>cont11</th>\n",
              "      <th>cont12</th>\n",
              "      <th>cont13</th>\n",
              "      <th>cont14</th>\n",
              "    </tr>\n",
              "  </thead>\n",
              "  <tbody>\n",
              "    <tr>\n",
              "      <th>0</th>\n",
              "      <td>A</td>\n",
              "      <td>B</td>\n",
              "      <td>A</td>\n",
              "      <td>B</td>\n",
              "      <td>A</td>\n",
              "      <td>A</td>\n",
              "      <td>A</td>\n",
              "      <td>A</td>\n",
              "      <td>B</td>\n",
              "      <td>A</td>\n",
              "      <td>B</td>\n",
              "      <td>A</td>\n",
              "      <td>A</td>\n",
              "      <td>A</td>\n",
              "      <td>A</td>\n",
              "      <td>A</td>\n",
              "      <td>A</td>\n",
              "      <td>A</td>\n",
              "      <td>A</td>\n",
              "      <td>A</td>\n",
              "      <td>A</td>\n",
              "      <td>A</td>\n",
              "      <td>B</td>\n",
              "      <td>A</td>\n",
              "      <td>A</td>\n",
              "      <td>A</td>\n",
              "      <td>A</td>\n",
              "      <td>A</td>\n",
              "      <td>A</td>\n",
              "      <td>A</td>\n",
              "      <td>A</td>\n",
              "      <td>A</td>\n",
              "      <td>A</td>\n",
              "      <td>A</td>\n",
              "      <td>A</td>\n",
              "      <td>A</td>\n",
              "      <td>A</td>\n",
              "      <td>A</td>\n",
              "      <td>A</td>\n",
              "      <td>A</td>\n",
              "      <td>...</td>\n",
              "      <td>A</td>\n",
              "      <td>A</td>\n",
              "      <td>D</td>\n",
              "      <td>B</td>\n",
              "      <td>C</td>\n",
              "      <td>E</td>\n",
              "      <td>A</td>\n",
              "      <td>C</td>\n",
              "      <td>T</td>\n",
              "      <td>B</td>\n",
              "      <td>G</td>\n",
              "      <td>A</td>\n",
              "      <td>A</td>\n",
              "      <td>I</td>\n",
              "      <td>E</td>\n",
              "      <td>G</td>\n",
              "      <td>J</td>\n",
              "      <td>G</td>\n",
              "      <td>BU</td>\n",
              "      <td>BC</td>\n",
              "      <td>C</td>\n",
              "      <td>AS</td>\n",
              "      <td>S</td>\n",
              "      <td>A</td>\n",
              "      <td>O</td>\n",
              "      <td>LB</td>\n",
              "      <td>0.726300</td>\n",
              "      <td>0.245921</td>\n",
              "      <td>0.187583</td>\n",
              "      <td>0.789639</td>\n",
              "      <td>0.310061</td>\n",
              "      <td>0.718367</td>\n",
              "      <td>0.335060</td>\n",
              "      <td>0.30260</td>\n",
              "      <td>0.67135</td>\n",
              "      <td>0.83510</td>\n",
              "      <td>0.569745</td>\n",
              "      <td>0.594646</td>\n",
              "      <td>0.822493</td>\n",
              "      <td>0.714843</td>\n",
              "    </tr>\n",
              "    <tr>\n",
              "      <th>1</th>\n",
              "      <td>A</td>\n",
              "      <td>B</td>\n",
              "      <td>A</td>\n",
              "      <td>A</td>\n",
              "      <td>A</td>\n",
              "      <td>A</td>\n",
              "      <td>A</td>\n",
              "      <td>A</td>\n",
              "      <td>B</td>\n",
              "      <td>B</td>\n",
              "      <td>A</td>\n",
              "      <td>A</td>\n",
              "      <td>A</td>\n",
              "      <td>A</td>\n",
              "      <td>A</td>\n",
              "      <td>A</td>\n",
              "      <td>A</td>\n",
              "      <td>A</td>\n",
              "      <td>A</td>\n",
              "      <td>A</td>\n",
              "      <td>A</td>\n",
              "      <td>A</td>\n",
              "      <td>A</td>\n",
              "      <td>A</td>\n",
              "      <td>A</td>\n",
              "      <td>A</td>\n",
              "      <td>A</td>\n",
              "      <td>A</td>\n",
              "      <td>A</td>\n",
              "      <td>A</td>\n",
              "      <td>A</td>\n",
              "      <td>A</td>\n",
              "      <td>A</td>\n",
              "      <td>A</td>\n",
              "      <td>A</td>\n",
              "      <td>A</td>\n",
              "      <td>A</td>\n",
              "      <td>A</td>\n",
              "      <td>A</td>\n",
              "      <td>A</td>\n",
              "      <td>...</td>\n",
              "      <td>A</td>\n",
              "      <td>A</td>\n",
              "      <td>D</td>\n",
              "      <td>D</td>\n",
              "      <td>C</td>\n",
              "      <td>E</td>\n",
              "      <td>E</td>\n",
              "      <td>D</td>\n",
              "      <td>T</td>\n",
              "      <td>L</td>\n",
              "      <td>F</td>\n",
              "      <td>A</td>\n",
              "      <td>A</td>\n",
              "      <td>E</td>\n",
              "      <td>E</td>\n",
              "      <td>I</td>\n",
              "      <td>K</td>\n",
              "      <td>K</td>\n",
              "      <td>BI</td>\n",
              "      <td>CQ</td>\n",
              "      <td>A</td>\n",
              "      <td>AV</td>\n",
              "      <td>BM</td>\n",
              "      <td>A</td>\n",
              "      <td>O</td>\n",
              "      <td>DP</td>\n",
              "      <td>0.330514</td>\n",
              "      <td>0.737068</td>\n",
              "      <td>0.592681</td>\n",
              "      <td>0.614134</td>\n",
              "      <td>0.885834</td>\n",
              "      <td>0.438917</td>\n",
              "      <td>0.436585</td>\n",
              "      <td>0.60087</td>\n",
              "      <td>0.35127</td>\n",
              "      <td>0.43919</td>\n",
              "      <td>0.338312</td>\n",
              "      <td>0.366307</td>\n",
              "      <td>0.611431</td>\n",
              "      <td>0.304496</td>\n",
              "    </tr>\n",
              "    <tr>\n",
              "      <th>2</th>\n",
              "      <td>A</td>\n",
              "      <td>B</td>\n",
              "      <td>A</td>\n",
              "      <td>A</td>\n",
              "      <td>B</td>\n",
              "      <td>A</td>\n",
              "      <td>A</td>\n",
              "      <td>A</td>\n",
              "      <td>B</td>\n",
              "      <td>B</td>\n",
              "      <td>B</td>\n",
              "      <td>B</td>\n",
              "      <td>B</td>\n",
              "      <td>A</td>\n",
              "      <td>A</td>\n",
              "      <td>A</td>\n",
              "      <td>A</td>\n",
              "      <td>A</td>\n",
              "      <td>A</td>\n",
              "      <td>A</td>\n",
              "      <td>A</td>\n",
              "      <td>A</td>\n",
              "      <td>A</td>\n",
              "      <td>A</td>\n",
              "      <td>A</td>\n",
              "      <td>A</td>\n",
              "      <td>A</td>\n",
              "      <td>A</td>\n",
              "      <td>A</td>\n",
              "      <td>A</td>\n",
              "      <td>A</td>\n",
              "      <td>A</td>\n",
              "      <td>A</td>\n",
              "      <td>A</td>\n",
              "      <td>A</td>\n",
              "      <td>B</td>\n",
              "      <td>A</td>\n",
              "      <td>A</td>\n",
              "      <td>A</td>\n",
              "      <td>A</td>\n",
              "      <td>...</td>\n",
              "      <td>A</td>\n",
              "      <td>A</td>\n",
              "      <td>D</td>\n",
              "      <td>D</td>\n",
              "      <td>C</td>\n",
              "      <td>E</td>\n",
              "      <td>E</td>\n",
              "      <td>A</td>\n",
              "      <td>D</td>\n",
              "      <td>L</td>\n",
              "      <td>O</td>\n",
              "      <td>A</td>\n",
              "      <td>B</td>\n",
              "      <td>E</td>\n",
              "      <td>F</td>\n",
              "      <td>H</td>\n",
              "      <td>F</td>\n",
              "      <td>A</td>\n",
              "      <td>AB</td>\n",
              "      <td>DK</td>\n",
              "      <td>A</td>\n",
              "      <td>C</td>\n",
              "      <td>AF</td>\n",
              "      <td>A</td>\n",
              "      <td>I</td>\n",
              "      <td>GK</td>\n",
              "      <td>0.261841</td>\n",
              "      <td>0.358319</td>\n",
              "      <td>0.484196</td>\n",
              "      <td>0.236924</td>\n",
              "      <td>0.397069</td>\n",
              "      <td>0.289648</td>\n",
              "      <td>0.315545</td>\n",
              "      <td>0.27320</td>\n",
              "      <td>0.26076</td>\n",
              "      <td>0.32446</td>\n",
              "      <td>0.381398</td>\n",
              "      <td>0.373424</td>\n",
              "      <td>0.195709</td>\n",
              "      <td>0.774425</td>\n",
              "    </tr>\n",
              "    <tr>\n",
              "      <th>3</th>\n",
              "      <td>B</td>\n",
              "      <td>B</td>\n",
              "      <td>A</td>\n",
              "      <td>B</td>\n",
              "      <td>A</td>\n",
              "      <td>A</td>\n",
              "      <td>A</td>\n",
              "      <td>A</td>\n",
              "      <td>B</td>\n",
              "      <td>A</td>\n",
              "      <td>A</td>\n",
              "      <td>A</td>\n",
              "      <td>A</td>\n",
              "      <td>A</td>\n",
              "      <td>A</td>\n",
              "      <td>A</td>\n",
              "      <td>A</td>\n",
              "      <td>A</td>\n",
              "      <td>A</td>\n",
              "      <td>A</td>\n",
              "      <td>A</td>\n",
              "      <td>A</td>\n",
              "      <td>B</td>\n",
              "      <td>A</td>\n",
              "      <td>A</td>\n",
              "      <td>A</td>\n",
              "      <td>A</td>\n",
              "      <td>A</td>\n",
              "      <td>A</td>\n",
              "      <td>A</td>\n",
              "      <td>A</td>\n",
              "      <td>A</td>\n",
              "      <td>A</td>\n",
              "      <td>A</td>\n",
              "      <td>A</td>\n",
              "      <td>A</td>\n",
              "      <td>A</td>\n",
              "      <td>A</td>\n",
              "      <td>A</td>\n",
              "      <td>A</td>\n",
              "      <td>...</td>\n",
              "      <td>A</td>\n",
              "      <td>A</td>\n",
              "      <td>D</td>\n",
              "      <td>D</td>\n",
              "      <td>C</td>\n",
              "      <td>E</td>\n",
              "      <td>E</td>\n",
              "      <td>D</td>\n",
              "      <td>T</td>\n",
              "      <td>I</td>\n",
              "      <td>D</td>\n",
              "      <td>A</td>\n",
              "      <td>A</td>\n",
              "      <td>E</td>\n",
              "      <td>E</td>\n",
              "      <td>I</td>\n",
              "      <td>K</td>\n",
              "      <td>K</td>\n",
              "      <td>BI</td>\n",
              "      <td>CS</td>\n",
              "      <td>C</td>\n",
              "      <td>N</td>\n",
              "      <td>AE</td>\n",
              "      <td>A</td>\n",
              "      <td>O</td>\n",
              "      <td>DJ</td>\n",
              "      <td>0.321594</td>\n",
              "      <td>0.555782</td>\n",
              "      <td>0.527991</td>\n",
              "      <td>0.373816</td>\n",
              "      <td>0.422268</td>\n",
              "      <td>0.440945</td>\n",
              "      <td>0.391128</td>\n",
              "      <td>0.31796</td>\n",
              "      <td>0.32128</td>\n",
              "      <td>0.44467</td>\n",
              "      <td>0.327915</td>\n",
              "      <td>0.321570</td>\n",
              "      <td>0.605077</td>\n",
              "      <td>0.602642</td>\n",
              "    </tr>\n",
              "    <tr>\n",
              "      <th>4</th>\n",
              "      <td>A</td>\n",
              "      <td>B</td>\n",
              "      <td>A</td>\n",
              "      <td>B</td>\n",
              "      <td>A</td>\n",
              "      <td>A</td>\n",
              "      <td>A</td>\n",
              "      <td>A</td>\n",
              "      <td>B</td>\n",
              "      <td>B</td>\n",
              "      <td>A</td>\n",
              "      <td>B</td>\n",
              "      <td>A</td>\n",
              "      <td>A</td>\n",
              "      <td>A</td>\n",
              "      <td>A</td>\n",
              "      <td>A</td>\n",
              "      <td>A</td>\n",
              "      <td>A</td>\n",
              "      <td>A</td>\n",
              "      <td>A</td>\n",
              "      <td>A</td>\n",
              "      <td>B</td>\n",
              "      <td>A</td>\n",
              "      <td>A</td>\n",
              "      <td>A</td>\n",
              "      <td>A</td>\n",
              "      <td>A</td>\n",
              "      <td>A</td>\n",
              "      <td>A</td>\n",
              "      <td>A</td>\n",
              "      <td>A</td>\n",
              "      <td>A</td>\n",
              "      <td>A</td>\n",
              "      <td>A</td>\n",
              "      <td>A</td>\n",
              "      <td>A</td>\n",
              "      <td>A</td>\n",
              "      <td>A</td>\n",
              "      <td>A</td>\n",
              "      <td>...</td>\n",
              "      <td>B</td>\n",
              "      <td>H</td>\n",
              "      <td>D</td>\n",
              "      <td>B</td>\n",
              "      <td>D</td>\n",
              "      <td>E</td>\n",
              "      <td>E</td>\n",
              "      <td>A</td>\n",
              "      <td>P</td>\n",
              "      <td>F</td>\n",
              "      <td>J</td>\n",
              "      <td>A</td>\n",
              "      <td>A</td>\n",
              "      <td>D</td>\n",
              "      <td>E</td>\n",
              "      <td>K</td>\n",
              "      <td>G</td>\n",
              "      <td>B</td>\n",
              "      <td>H</td>\n",
              "      <td>C</td>\n",
              "      <td>C</td>\n",
              "      <td>Y</td>\n",
              "      <td>BM</td>\n",
              "      <td>A</td>\n",
              "      <td>K</td>\n",
              "      <td>CK</td>\n",
              "      <td>0.273204</td>\n",
              "      <td>0.159990</td>\n",
              "      <td>0.527991</td>\n",
              "      <td>0.473202</td>\n",
              "      <td>0.704268</td>\n",
              "      <td>0.178193</td>\n",
              "      <td>0.247408</td>\n",
              "      <td>0.24564</td>\n",
              "      <td>0.22089</td>\n",
              "      <td>0.21230</td>\n",
              "      <td>0.204687</td>\n",
              "      <td>0.202213</td>\n",
              "      <td>0.246011</td>\n",
              "      <td>0.432606</td>\n",
              "    </tr>\n",
              "  </tbody>\n",
              "</table>\n",
              "<p>5 rows × 130 columns</p>\n",
              "</div>"
            ],
            "text/plain": [
              "  cat1 cat2 cat3 cat4 cat5  ...   cont10    cont11    cont12    cont13    cont14\n",
              "0    A    B    A    B    A  ...  0.83510  0.569745  0.594646  0.822493  0.714843\n",
              "1    A    B    A    A    A  ...  0.43919  0.338312  0.366307  0.611431  0.304496\n",
              "2    A    B    A    A    B  ...  0.32446  0.381398  0.373424  0.195709  0.774425\n",
              "3    B    B    A    B    A  ...  0.44467  0.327915  0.321570  0.605077  0.602642\n",
              "4    A    B    A    B    A  ...  0.21230  0.204687  0.202213  0.246011  0.432606\n",
              "\n",
              "[5 rows x 130 columns]"
            ]
          },
          "metadata": {
            "tags": []
          },
          "execution_count": 28
        },
        {
          "output_type": "stream",
          "text": [
            "time: 1.1 s\n"
          ],
          "name": "stdout"
        }
      ]
    },
    {
      "cell_type": "code",
      "metadata": {
        "id": "eEphoBdjpSXG",
        "colab": {
          "base_uri": "https://localhost:8080/"
        },
        "outputId": "2664f9f8-4a1a-4d78-e591-58b9b3ce1957"
      },
      "source": [
        "from sklearn import preprocessing\n",
        "le = preprocessing.LabelEncoder()"
      ],
      "execution_count": null,
      "outputs": [
        {
          "output_type": "stream",
          "text": [
            "time: 933 µs\n"
          ],
          "name": "stdout"
        }
      ]
    },
    {
      "cell_type": "code",
      "metadata": {
        "id": "ZBdf6AjMpost",
        "colab": {
          "base_uri": "https://localhost:8080/"
        },
        "outputId": "90738308-2848-4258-e327-a9d34ddf180c"
      },
      "source": [
        "categorical_ = [feature for feature in Train_Test.columns if 'cat' in feature]\n",
        "continuous_ = [feature for feature in Train_Test.columns if 'cont' in feature]\n",
        "\n",
        "#cat_feature = [n for n in joined.columns if n.startswith('cat')]    \n",
        "#cont_feature = [n for n in joined.columns if n.startswith('cont')]"
      ],
      "execution_count": null,
      "outputs": [
        {
          "output_type": "stream",
          "text": [
            "time: 2.03 ms\n"
          ],
          "name": "stdout"
        }
      ]
    },
    {
      "cell_type": "code",
      "metadata": {
        "id": "INXYCAZhp-T5",
        "colab": {
          "base_uri": "https://localhost:8080/"
        },
        "outputId": "7ce867d9-5af4-4a7a-d976-cffc3c970bda"
      },
      "source": [
        "for feature in categorical_: Train_Test[feature] = le.fit_transform(Train_Test[feature])"
      ],
      "execution_count": null,
      "outputs": [
        {
          "output_type": "stream",
          "text": [
            "time: 17.3 s\n"
          ],
          "name": "stdout"
        }
      ]
    },
    {
      "cell_type": "code",
      "metadata": {
        "id": "9qSuvVZtq6cE",
        "colab": {
          "base_uri": "https://localhost:8080/"
        },
        "outputId": "a295b128-24d5-4ac6-bfc1-09f3475799ff"
      },
      "source": [
        "from scipy.stats import skew,boxcox"
      ],
      "execution_count": null,
      "outputs": [
        {
          "output_type": "stream",
          "text": [
            "time: 1 ms\n"
          ],
          "name": "stdout"
        }
      ]
    },
    {
      "cell_type": "code",
      "metadata": {
        "id": "XhZqVethqrqN",
        "colab": {
          "base_uri": "https://localhost:8080/"
        },
        "outputId": "f35776d1-43a2-4695-d677-967c3d2ce22d"
      },
      "source": [
        "skewed_box = Train_Test.loc[:,\"cont1\":\"cont14\"].apply(lambda x: skew(x))\n",
        "skewed_box"
      ],
      "execution_count": null,
      "outputs": [
        {
          "output_type": "execute_result",
          "data": {
            "text/plain": [
              "cont1     0.513205\n",
              "cont2    -0.311146\n",
              "cont3    -0.007023\n",
              "cont4     0.417559\n",
              "cont5     0.679610\n",
              "cont6     0.458413\n",
              "cont7     0.825889\n",
              "cont8     0.673237\n",
              "cont9     1.067247\n",
              "cont10    0.352116\n",
              "cont11    0.281139\n",
              "cont12    0.291997\n",
              "cont13    0.376138\n",
              "cont14    0.250673\n",
              "dtype: float64"
            ]
          },
          "metadata": {
            "tags": []
          },
          "execution_count": 33
        },
        {
          "output_type": "stream",
          "text": [
            "time: 70.2 ms\n"
          ],
          "name": "stdout"
        }
      ]
    },
    {
      "cell_type": "code",
      "metadata": {
        "id": "XR38BOhLrBdU",
        "colab": {
          "base_uri": "https://localhost:8080/"
        },
        "outputId": "22a06577-7e06-4973-cc59-68343ccc6462"
      },
      "source": [
        "Train_Test[\"cont1\"], lam = boxcox(Train_Test[\"cont1\"] + 1)\n",
        "Train_Test[\"cont2\"], lam = boxcox(Train_Test[\"cont2\"] + 1)  \n",
        "Train_Test[\"cont4\"], lam = boxcox(Train_Test[\"cont4\"] + 1)\n",
        "Train_Test[\"cont5\"], lam = boxcox(Train_Test[\"cont5\"] + 1)\n",
        "Train_Test[\"cont6\"], lam = boxcox(Train_Test[\"cont6\"] + 1)\n",
        "Train_Test[\"cont7\"], lam = boxcox(Train_Test[\"cont7\"] + 1)\n",
        "Train_Test[\"cont8\"], lam = boxcox(Train_Test[\"cont8\"] + 1)\n",
        "Train_Test[\"cont9\"], lam = boxcox(Train_Test[\"cont9\"] + 1)\n",
        "Train_Test[\"cont10\"], lam = boxcox(Train_Test[\"cont10\"] + 1)\n",
        "Train_Test[\"cont11\"], lam = boxcox(Train_Test[\"cont11\"] + 1)\n",
        "Train_Test[\"cont12\"], lam = boxcox(Train_Test[\"cont12\"] + 1)\n",
        "Train_Test[\"cont13\"], lam = boxcox(Train_Test[\"cont13\"] + 1)"
      ],
      "execution_count": null,
      "outputs": [
        {
          "output_type": "stream",
          "text": [
            "time: 6.19 s\n"
          ],
          "name": "stdout"
        }
      ]
    },
    {
      "cell_type": "code",
      "metadata": {
        "id": "N4RDTDYXu1Ve",
        "colab": {
          "base_uri": "https://localhost:8080/"
        },
        "outputId": "6af3482a-da8f-44ec-91d3-0e15a1f644db"
      },
      "source": [
        "Train_Data = Train_Test.iloc[:r, :]\n",
        "Test_Data = Train_Test.iloc[r:, :]"
      ],
      "execution_count": null,
      "outputs": [
        {
          "output_type": "stream",
          "text": [
            "time: 76.2 ms\n"
          ],
          "name": "stdout"
        }
      ]
    },
    {
      "cell_type": "code",
      "metadata": {
        "id": "jkvxoGRTu3iX",
        "colab": {
          "base_uri": "https://localhost:8080/"
        },
        "outputId": "0037cb3e-2f5d-48c6-d20e-669d805f89d6"
      },
      "source": [
        "# split the data into test and train by maintaining same distribution of output varaible 'y_true' [stratify=y_true]\n",
        "from sklearn.model_selection import train_test_split\n",
        "X_train, X_test, y_train, y_test = train_test_split(Train_Data, y_,test_size=0.20)"
      ],
      "execution_count": null,
      "outputs": [
        {
          "output_type": "stream",
          "text": [
            "time: 302 ms\n"
          ],
          "name": "stdout"
        }
      ]
    },
    {
      "cell_type": "markdown",
      "metadata": {
        "id": "GyDznbsqwBlq"
      },
      "source": [
        "<h3>XGBoost</h3>"
      ]
    },
    {
      "cell_type": "code",
      "metadata": {
        "id": "aThW_WbEx-6O",
        "colab": {
          "base_uri": "https://localhost:8080/"
        },
        "outputId": "9636d4f2-0948-4809-e728-1856b756e916"
      },
      "source": [
        "xg = XGBRegressor()"
      ],
      "execution_count": null,
      "outputs": [
        {
          "output_type": "stream",
          "text": [
            "time: 818 µs\n"
          ],
          "name": "stdout"
        }
      ]
    },
    {
      "cell_type": "code",
      "metadata": {
        "id": "KO_i619kwFZW",
        "colab": {
          "base_uri": "https://localhost:8080/"
        },
        "outputId": "dca30119-2faf-48da-eb2e-c984bb7ee4c7"
      },
      "source": [
        "prams={\n",
        "    'learning_rate':[0.01,0.03,0.05,0.1,0.15,0.2],\n",
        "     'n_estimators':[100,200,500,1000,2000],\n",
        "}"
      ],
      "execution_count": null,
      "outputs": [
        {
          "output_type": "stream",
          "text": [
            "time: 1.5 ms\n"
          ],
          "name": "stdout"
        }
      ]
    },
    {
      "cell_type": "code",
      "metadata": {
        "id": "6FbPj3cYyLdD",
        "colab": {
          "base_uri": "https://localhost:8080/"
        },
        "outputId": "24a06110-945e-41aa-f037-12eaa7f7fddb"
      },
      "source": [
        "xgb_grid = GridSearchCV(xg,prams,cv = 3,scoring=\"neg_mean_squared_error\",n_jobs = -1,verbose=True)"
      ],
      "execution_count": null,
      "outputs": [
        {
          "output_type": "stream",
          "text": [
            "time: 1.3 ms\n"
          ],
          "name": "stdout"
        }
      ]
    },
    {
      "cell_type": "code",
      "metadata": {
        "id": "4sTh6rMtyYTG",
        "colab": {
          "base_uri": "https://localhost:8080/"
        },
        "outputId": "e0763aca-d9e2-4c1f-ed40-020fc76b8cfd"
      },
      "source": [
        "xgb_grid.fit(X_train, y_train)"
      ],
      "execution_count": null,
      "outputs": [
        {
          "output_type": "stream",
          "text": [
            "Fitting 3 folds for each of 30 candidates, totalling 90 fits\n"
          ],
          "name": "stdout"
        },
        {
          "output_type": "stream",
          "text": [
            "[Parallel(n_jobs=-1)]: Using backend LokyBackend with 4 concurrent workers.\n",
            "[Parallel(n_jobs=-1)]: Done  42 tasks      | elapsed: 55.1min\n",
            "[Parallel(n_jobs=-1)]: Done  90 out of  90 | elapsed: 130.7min finished\n"
          ],
          "name": "stderr"
        },
        {
          "output_type": "stream",
          "text": [
            "[09:25:29] WARNING: /workspace/src/objective/regression_obj.cu:152: reg:linear is now deprecated in favor of reg:squarederror.\n"
          ],
          "name": "stdout"
        },
        {
          "output_type": "execute_result",
          "data": {
            "text/plain": [
              "GridSearchCV(cv=3, error_score=nan,\n",
              "             estimator=XGBRegressor(base_score=0.5, booster='gbtree',\n",
              "                                    colsample_bylevel=1, colsample_bynode=1,\n",
              "                                    colsample_bytree=1, gamma=0,\n",
              "                                    importance_type='gain', learning_rate=0.1,\n",
              "                                    max_delta_step=0, max_depth=3,\n",
              "                                    min_child_weight=1, missing=None,\n",
              "                                    n_estimators=100, n_jobs=1, nthread=None,\n",
              "                                    objective='reg:linear', random_state=0,\n",
              "                                    reg_alpha=0, reg_lambda=1,\n",
              "                                    scale_pos_weight=1, seed=None, silent=None,\n",
              "                                    subsample=1, verbosity=1),\n",
              "             iid='deprecated', n_jobs=-1,\n",
              "             param_grid={'learning_rate': [0.01, 0.03, 0.05, 0.1, 0.15, 0.2],\n",
              "                         'n_estimators': [100, 200, 500, 1000, 2000]},\n",
              "             pre_dispatch='2*n_jobs', refit=True, return_train_score=False,\n",
              "             scoring='neg_mean_squared_error', verbose=True)"
            ]
          },
          "metadata": {
            "tags": []
          },
          "execution_count": 40
        },
        {
          "output_type": "stream",
          "text": [
            "time: 2h 25min 11s\n"
          ],
          "name": "stdout"
        }
      ]
    },
    {
      "cell_type": "code",
      "metadata": {
        "colab": {
          "base_uri": "https://localhost:8080/"
        },
        "id": "UXyXsS1GxmUG",
        "outputId": "4a0723c4-df54-48bf-a9cd-8fac806f354f"
      },
      "source": [
        "results = pd.DataFrame.from_dict(xgb_grid.cv_results_)"
      ],
      "execution_count": null,
      "outputs": [
        {
          "output_type": "stream",
          "text": [
            "time: 3.34 ms\n"
          ],
          "name": "stdout"
        }
      ]
    },
    {
      "cell_type": "code",
      "metadata": {
        "colab": {
          "base_uri": "https://localhost:8080/",
          "height": 245
        },
        "id": "v5xT3Vqbx5ZC",
        "outputId": "66c849a2-d3d5-4edb-dff2-df1e551cc405"
      },
      "source": [
        "results.head(2)"
      ],
      "execution_count": null,
      "outputs": [
        {
          "output_type": "execute_result",
          "data": {
            "text/html": [
              "<div>\n",
              "<style scoped>\n",
              "    .dataframe tbody tr th:only-of-type {\n",
              "        vertical-align: middle;\n",
              "    }\n",
              "\n",
              "    .dataframe tbody tr th {\n",
              "        vertical-align: top;\n",
              "    }\n",
              "\n",
              "    .dataframe thead th {\n",
              "        text-align: right;\n",
              "    }\n",
              "</style>\n",
              "<table border=\"1\" class=\"dataframe\">\n",
              "  <thead>\n",
              "    <tr style=\"text-align: right;\">\n",
              "      <th></th>\n",
              "      <th>mean_fit_time</th>\n",
              "      <th>std_fit_time</th>\n",
              "      <th>mean_score_time</th>\n",
              "      <th>std_score_time</th>\n",
              "      <th>param_learning_rate</th>\n",
              "      <th>param_n_estimators</th>\n",
              "      <th>params</th>\n",
              "      <th>split0_test_score</th>\n",
              "      <th>split1_test_score</th>\n",
              "      <th>split2_test_score</th>\n",
              "      <th>mean_test_score</th>\n",
              "      <th>std_test_score</th>\n",
              "      <th>rank_test_score</th>\n",
              "    </tr>\n",
              "  </thead>\n",
              "  <tbody>\n",
              "    <tr>\n",
              "      <th>0</th>\n",
              "      <td>47.502924</td>\n",
              "      <td>0.035372</td>\n",
              "      <td>0.327666</td>\n",
              "      <td>0.006254</td>\n",
              "      <td>0.01</td>\n",
              "      <td>100</td>\n",
              "      <td>{'learning_rate': 0.01, 'n_estimators': 100}</td>\n",
              "      <td>-7.357627</td>\n",
              "      <td>-7.400824</td>\n",
              "      <td>-7.366927</td>\n",
              "      <td>-7.375126</td>\n",
              "      <td>0.018564</td>\n",
              "      <td>30</td>\n",
              "    </tr>\n",
              "    <tr>\n",
              "      <th>1</th>\n",
              "      <td>92.062452</td>\n",
              "      <td>0.456628</td>\n",
              "      <td>0.507636</td>\n",
              "      <td>0.008790</td>\n",
              "      <td>0.01</td>\n",
              "      <td>200</td>\n",
              "      <td>{'learning_rate': 0.01, 'n_estimators': 200}</td>\n",
              "      <td>-1.323545</td>\n",
              "      <td>-1.339483</td>\n",
              "      <td>-1.326324</td>\n",
              "      <td>-1.329784</td>\n",
              "      <td>0.006952</td>\n",
              "      <td>29</td>\n",
              "    </tr>\n",
              "  </tbody>\n",
              "</table>\n",
              "</div>"
            ],
            "text/plain": [
              "   mean_fit_time  std_fit_time  ...  std_test_score  rank_test_score\n",
              "0      47.502924      0.035372  ...        0.018564               30\n",
              "1      92.062452      0.456628  ...        0.006952               29\n",
              "\n",
              "[2 rows x 13 columns]"
            ]
          },
          "metadata": {
            "tags": []
          },
          "execution_count": 44
        },
        {
          "output_type": "stream",
          "text": [
            "time: 25.7 ms\n"
          ],
          "name": "stdout"
        }
      ]
    },
    {
      "cell_type": "code",
      "metadata": {
        "id": "lTIUq2uZ5sV4",
        "colab": {
          "base_uri": "https://localhost:8080/"
        },
        "outputId": "2a7b4b9b-fe07-452e-b563-259d22c818e3"
      },
      "source": [
        "print(xgb_grid.best_params_)"
      ],
      "execution_count": null,
      "outputs": [
        {
          "output_type": "stream",
          "text": [
            "{'learning_rate': 0.1, 'n_estimators': 2000}\n",
            "time: 1.32 ms\n"
          ],
          "name": "stdout"
        }
      ]
    },
    {
      "cell_type": "code",
      "metadata": {
        "id": "GM4XcX6G5yUb",
        "colab": {
          "base_uri": "https://localhost:8080/"
        },
        "outputId": "c7245c7e-559f-4c7c-dce9-e39c96780937"
      },
      "source": [
        "final_xg = XGBRegressor(base_score=0.5, booster='gbtree',\n",
        "                                    colsample_bylevel=1, colsample_bynode=1,\n",
        "                                    colsample_bytree=1, gamma=0,\n",
        "                                    importance_type='gain', learning_rate=0.1,\n",
        "                                    max_delta_step=0, max_depth=3,\n",
        "                                    min_child_weight=1, missing=None,\n",
        "                                    n_estimators=2000, n_jobs=1, nthread=None,\n",
        "                                    objective='reg:linear', random_state=0,\n",
        "                                    reg_alpha=0, reg_lambda=1,\n",
        "                                    scale_pos_weight=1, seed=None, silent=None,\n",
        "                                    subsample=1, verbosity=1).fit(X_train, y_train)"
      ],
      "execution_count": null,
      "outputs": [
        {
          "output_type": "stream",
          "text": [
            "[12:53:08] WARNING: /workspace/src/objective/regression_obj.cu:152: reg:linear is now deprecated in favor of reg:squarederror.\n"
          ],
          "name": "stdout"
        }
      ]
    },
    {
      "cell_type": "code",
      "metadata": {
        "id": "uaix3kjT6FHX",
        "colab": {
          "base_uri": "https://localhost:8080/"
        },
        "outputId": "75dee2f5-4cfd-40b7-87cc-73789427a0a9"
      },
      "source": [
        "y_pred_xg = np.expm1(final_xg.predict(X_test))\n",
        "y_test_xg = np.expm1(y_test)\n",
        "print(mean_absolute_error(y_pred_xg, y_test_xg))"
      ],
      "execution_count": null,
      "outputs": [
        {
          "output_type": "stream",
          "text": [
            "1150.5046796306717\n"
          ],
          "name": "stdout"
        }
      ]
    },
    {
      "cell_type": "markdown",
      "metadata": {
        "id": "JVCH3Ewz6o-E"
      },
      "source": [
        "GradientBoostingRegressor"
      ]
    },
    {
      "cell_type": "code",
      "metadata": {
        "id": "9baECB-26pUa",
        "colab": {
          "base_uri": "https://localhost:8080/"
        },
        "outputId": "c294eee1-2f5a-4b47-f343-582f8a77e610"
      },
      "source": [
        "GBR = GradientBoostingRegressor()\n",
        "prams={\n",
        "    'learning_rate':[0.01,0.03,0.05,0.1,0.15,0.2],\n",
        "     'n_estimators':[100,200,500,1000,2000],\n",
        "     'max_depth':[1,2,4],\n",
        "     'subsample':[.5,.75,1],\n",
        "     'random_state':[1]\n",
        "}"
      ],
      "execution_count": null,
      "outputs": [
        {
          "output_type": "stream",
          "text": [
            "time: 2.26 ms\n"
          ],
          "name": "stdout"
        }
      ]
    },
    {
      "cell_type": "code",
      "metadata": {
        "id": "FlV2ADUT78OQ",
        "colab": {
          "base_uri": "https://localhost:8080/"
        },
        "outputId": "48ee1274-b5d2-472b-8474-6a140d863ba3"
      },
      "source": [
        "gbr_grid = GridSearchCV(GBR,prams,cv = 3,scoring=\"neg_mean_squared_error\",n_jobs = -1,verbose=True)"
      ],
      "execution_count": null,
      "outputs": [
        {
          "output_type": "stream",
          "text": [
            "time: 1.2 ms\n"
          ],
          "name": "stdout"
        }
      ]
    },
    {
      "cell_type": "code",
      "metadata": {
        "id": "a2mokN848EaX",
        "colab": {
          "base_uri": "https://localhost:8080/"
        },
        "outputId": "64e330b2-3fad-4080-b7f0-058cd610fcc4"
      },
      "source": [
        "gbr_grid.fit(X_train, y_train)"
      ],
      "execution_count": null,
      "outputs": [
        {
          "output_type": "stream",
          "text": [
            "Fitting 3 folds for each of 270 candidates, totalling 810 fits\n"
          ],
          "name": "stdout"
        },
        {
          "output_type": "stream",
          "text": [
            "[Parallel(n_jobs=-1)]: Using backend LokyBackend with 40 concurrent workers.\n",
            "[Parallel(n_jobs=-1)]: Done 120 tasks      | elapsed: 19.2min\n",
            "[Parallel(n_jobs=-1)]: Done 370 tasks      | elapsed: 79.3min\n",
            "[Parallel(n_jobs=-1)]: Done 720 tasks      | elapsed: 165.8min\n",
            "[Parallel(n_jobs=-1)]: Done 810 out of 810 | elapsed: 210.1min finished\n"
          ],
          "name": "stderr"
        },
        {
          "output_type": "execute_result",
          "data": {
            "text/plain": [
              "GridSearchCV(cv=3, error_score=nan,\n",
              "             estimator=GradientBoostingRegressor(alpha=0.9, ccp_alpha=0.0,\n",
              "                                                 criterion='friedman_mse',\n",
              "                                                 init=None, learning_rate=0.1,\n",
              "                                                 loss='ls', max_depth=3,\n",
              "                                                 max_features=None,\n",
              "                                                 max_leaf_nodes=None,\n",
              "                                                 min_impurity_decrease=0.0,\n",
              "                                                 min_impurity_split=None,\n",
              "                                                 min_samples_leaf=1,\n",
              "                                                 min_samples_split=2,\n",
              "                                                 min_weight_fraction_leaf=0.0,\n",
              "                                                 n_estimators=100,\n",
              "                                                 n_iter_n...\n",
              "                                                 subsample=1.0, tol=0.0001,\n",
              "                                                 validation_fraction=0.1,\n",
              "                                                 verbose=0, warm_start=False),\n",
              "             iid='deprecated', n_jobs=-1,\n",
              "             param_grid={'learning_rate': [0.01, 0.03, 0.05, 0.1, 0.15, 0.2],\n",
              "                         'max_depth': [1, 2, 4],\n",
              "                         'n_estimators': [100, 200, 500, 1000, 2000],\n",
              "                         'random_state': [1], 'subsample': [0.5, 0.75, 1]},\n",
              "             pre_dispatch='2*n_jobs', refit=True, return_train_score=False,\n",
              "             scoring='neg_mean_squared_error', verbose=True)"
            ]
          },
          "metadata": {
            "tags": []
          },
          "execution_count": 19
        },
        {
          "output_type": "stream",
          "text": [
            "time: 4h 47s\n"
          ],
          "name": "stdout"
        }
      ]
    },
    {
      "cell_type": "code",
      "metadata": {
        "id": "ov8h13wmzV2y",
        "colab": {
          "base_uri": "https://localhost:8080/"
        },
        "outputId": "9d030547-5ebf-4566-ecb2-e9825fd34ad7"
      },
      "source": [
        "print(gbr_grid.best_params_)"
      ],
      "execution_count": null,
      "outputs": [
        {
          "output_type": "stream",
          "text": [
            "{'learning_rate': 0.05, 'max_depth': 4, 'n_estimators': 2000, 'random_state': 1, 'subsample': 0.75}\n",
            "time: 1.23 ms\n"
          ],
          "name": "stdout"
        }
      ]
    },
    {
      "cell_type": "code",
      "metadata": {
        "id": "AF2ItuQszdm8",
        "colab": {
          "base_uri": "https://localhost:8080/"
        },
        "outputId": "aafb0ae1-0d8a-4238-d65e-76338e992ac4"
      },
      "source": [
        "GBR_final = GradientBoostingRegressor(alpha=0.9, ccp_alpha=0.0,\n",
        "                                                 criterion='friedman_mse',\n",
        "                                                 init=None, learning_rate=0.05,\n",
        "                                                 loss='ls', max_depth=4,\n",
        "                                                 max_features=None,\n",
        "                                                 max_leaf_nodes=None,\n",
        "                                                 min_impurity_decrease=0.0,\n",
        "                                                 min_impurity_split=None,\n",
        "                                                 min_samples_leaf=1,\n",
        "                                                 min_samples_split=2,\n",
        "                                                 min_weight_fraction_leaf=0.0,\n",
        "                                                 n_estimators=2000,\n",
        "                                                 subsample=0.75, tol=0.0001,\n",
        "                                                 validation_fraction=0.1,\n",
        "                                                 verbose=0, warm_start=False)"
      ],
      "execution_count": null,
      "outputs": [
        {
          "output_type": "stream",
          "text": [
            "time: 3.66 ms\n"
          ],
          "name": "stdout"
        }
      ]
    },
    {
      "cell_type": "code",
      "metadata": {
        "id": "c1pIS0Pqz5fJ",
        "colab": {
          "base_uri": "https://localhost:8080/"
        },
        "outputId": "d2cbd39b-e950-4757-9df5-52a4bc752a23"
      },
      "source": [
        "GBR_final.fit(X_train, y_train)"
      ],
      "execution_count": null,
      "outputs": [
        {
          "output_type": "execute_result",
          "data": {
            "text/plain": [
              "GradientBoostingRegressor(alpha=0.9, ccp_alpha=0.0, criterion='friedman_mse',\n",
              "                          init=None, learning_rate=0.05, loss='ls', max_depth=4,\n",
              "                          max_features=None, max_leaf_nodes=None,\n",
              "                          min_impurity_decrease=0.0, min_impurity_split=None,\n",
              "                          min_samples_leaf=1, min_samples_split=2,\n",
              "                          min_weight_fraction_leaf=0.0, n_estimators=2000,\n",
              "                          n_iter_no_change=None, presort='deprecated',\n",
              "                          random_state=None, subsample=0.75, tol=0.0001,\n",
              "                          validation_fraction=0.1, verbose=0, warm_start=False)"
            ]
          },
          "metadata": {
            "tags": []
          },
          "execution_count": 22
        },
        {
          "output_type": "stream",
          "text": [
            "time: 32min 35s\n"
          ],
          "name": "stdout"
        }
      ]
    },
    {
      "cell_type": "code",
      "metadata": {
        "id": "tLS1drIc0ER3",
        "colab": {
          "base_uri": "https://localhost:8080/"
        },
        "outputId": "884d95b0-389f-4ef9-c5b4-e7d8cf99eab5"
      },
      "source": [
        "y_pred_xbr = np.expm1(GBR_final.predict(X_test))\n",
        "y_test_xbr = np.expm1(y_test)\n",
        "print(mean_absolute_error(y_pred_xbr, y_test_xbr))"
      ],
      "execution_count": null,
      "outputs": [
        {
          "output_type": "stream",
          "text": [
            "1147.8637829161644\n",
            "time: 2.27 s\n"
          ],
          "name": "stdout"
        }
      ]
    },
    {
      "cell_type": "markdown",
      "metadata": {
        "id": "VwBgxKEG7jQo"
      },
      "source": [
        "lightgbm"
      ]
    },
    {
      "cell_type": "code",
      "metadata": {
        "id": "q2Sh6vdX7jsT"
      },
      "source": [
        "from lightgbm import LGBMRegressor"
      ],
      "execution_count": null,
      "outputs": []
    },
    {
      "cell_type": "code",
      "metadata": {
        "id": "ffs4xQD58QCr",
        "colab": {
          "base_uri": "https://localhost:8080/"
        },
        "outputId": "55d35845-55ea-47fb-e5c3-17a2f50f8cdc"
      },
      "source": [
        "params = {\n",
        " 'boosting_type': ['gbdt','dart','goss','rf'],\n",
        " 'metric': ['l2', 'l1'],\n",
        " 'min_child_weight': [1e-5, 1e-3, 1e-2, 1e-1, 1, 1e1, 1e2, 1e3, 1e4],\n",
        " 'learning_rate': [0.01,0.03,0.05,0.1,0.15,0.2],\n",
        " 'reg_alpha': [1e-2, 1e-1, 1, 1e1, 1e2],\n",
        " 'reg_lambda': [1e-2, 1e-1, 1, 1e1, 1e2],\n",
        "}"
      ],
      "execution_count": null,
      "outputs": [
        {
          "output_type": "stream",
          "text": [
            "time: 2 ms\n"
          ],
          "name": "stdout"
        }
      ]
    },
    {
      "cell_type": "code",
      "metadata": {
        "id": "fJVIoISR_FjY",
        "colab": {
          "base_uri": "https://localhost:8080/"
        },
        "outputId": "04b226aa-9b9c-4ece-871e-d1fbb8a1feee"
      },
      "source": [
        "lgb_r = LGBMRegressor(max_depth=-1, random_state=314, n_estimators=5000)"
      ],
      "execution_count": null,
      "outputs": [
        {
          "output_type": "stream",
          "text": [
            "time: 856 µs\n"
          ],
          "name": "stdout"
        }
      ]
    },
    {
      "cell_type": "code",
      "metadata": {
        "id": "NDxhYijx_aqX",
        "colab": {
          "base_uri": "https://localhost:8080/"
        },
        "outputId": "6115baf2-862e-41a0-8c6c-8d31adb97f30"
      },
      "source": [
        "lgbmr_rs = RandomizedSearchCV(lgb_r,params,cv = 3,scoring=\"neg_mean_squared_error\",n_jobs = -1,verbose=True)"
      ],
      "execution_count": null,
      "outputs": [
        {
          "output_type": "stream",
          "text": [
            "time: 929 µs\n"
          ],
          "name": "stdout"
        }
      ]
    },
    {
      "cell_type": "code",
      "metadata": {
        "id": "g5-ejo4EANqN",
        "colab": {
          "base_uri": "https://localhost:8080/"
        },
        "outputId": "fd1deff5-281a-4f69-8634-aea3a4458527"
      },
      "source": [
        "lgbmr_rs.fit(X_train, y_train)"
      ],
      "execution_count": null,
      "outputs": [
        {
          "output_type": "stream",
          "text": [
            "Fitting 3 folds for each of 10 candidates, totalling 30 fits\n"
          ],
          "name": "stdout"
        },
        {
          "output_type": "stream",
          "text": [
            "[Parallel(n_jobs=-1)]: Using backend LokyBackend with 40 concurrent workers.\n",
            "[Parallel(n_jobs=-1)]: Done  13 out of  30 | elapsed:  4.2min remaining:  5.4min\n",
            "[Parallel(n_jobs=-1)]: Done  30 out of  30 | elapsed: 40.6min finished\n"
          ],
          "name": "stderr"
        },
        {
          "output_type": "execute_result",
          "data": {
            "text/plain": [
              "RandomizedSearchCV(cv=3, error_score=nan,\n",
              "                   estimator=LGBMRegressor(boosting_type='gbdt',\n",
              "                                           class_weight=None,\n",
              "                                           colsample_bytree=1.0,\n",
              "                                           importance_type='split',\n",
              "                                           learning_rate=0.1, max_depth=-1,\n",
              "                                           min_child_samples=20,\n",
              "                                           min_child_weight=0.001,\n",
              "                                           min_split_gain=0.0,\n",
              "                                           n_estimators=5000, n_jobs=-1,\n",
              "                                           num_leaves=31, objective=None,\n",
              "                                           random_state=314, reg_alpha=0.0,\n",
              "                                           reg_lambda=0.0, silen...\n",
              "                   param_distributions={'boosting_type': ['gbdt', 'dart',\n",
              "                                                          'goss', 'rf'],\n",
              "                                        'learning_rate': [0.01, 0.03, 0.05, 0.1,\n",
              "                                                          0.15, 0.2],\n",
              "                                        'metric': ['l2', 'l1'],\n",
              "                                        'min_child_weight': [1e-05, 0.001, 0.01,\n",
              "                                                             0.1, 1, 10.0,\n",
              "                                                             100.0, 1000.0,\n",
              "                                                             10000.0],\n",
              "                                        'reg_alpha': [0.01, 0.1, 1, 10.0,\n",
              "                                                      100.0],\n",
              "                                        'reg_lambda': [0.01, 0.1, 1, 10.0,\n",
              "                                                       100.0]},\n",
              "                   pre_dispatch='2*n_jobs', random_state=None, refit=True,\n",
              "                   return_train_score=False, scoring='neg_mean_squared_error',\n",
              "                   verbose=True)"
            ]
          },
          "metadata": {
            "tags": []
          },
          "execution_count": 73
        },
        {
          "output_type": "stream",
          "text": [
            "time: 42min 44s\n"
          ],
          "name": "stdout"
        }
      ]
    },
    {
      "cell_type": "code",
      "metadata": {
        "id": "lI27syZi13aq",
        "colab": {
          "base_uri": "https://localhost:8080/"
        },
        "outputId": "3208b936-800f-4481-c61f-0e08f9a6e993"
      },
      "source": [
        "print(lgbmr_rs.best_params_)"
      ],
      "execution_count": null,
      "outputs": [
        {
          "output_type": "stream",
          "text": [
            "{'reg_lambda': 100.0, 'reg_alpha': 10.0, 'min_child_weight': 0.01, 'metric': 'l1', 'learning_rate': 0.03, 'boosting_type': 'gbdt'}\n",
            "time: 1.95 ms\n"
          ],
          "name": "stdout"
        }
      ]
    },
    {
      "cell_type": "code",
      "metadata": {
        "id": "Em1QuNvyNSUS",
        "colab": {
          "base_uri": "https://localhost:8080/"
        },
        "outputId": "0480a5e7-7ff2-4c88-9f8e-e253dd58c42f"
      },
      "source": [
        "estimator=LGBMRegressor(boosting_type='gbdt',class_weight=None,colsample_bytree=1.0,importance_type='split',learning_rate=0.03, max_depth=-1,\n",
        "                        min_child_samples=20,min_child_weight=0.001,min_split_gain=0.0,n_estimators=5000, n_jobs=-1,num_leaves=31, objective=None,\n",
        "                         random_state=314, reg_alpha=10.0, reg_lambda=100.0,metric= 'l1').fit(X_train, y_train)"
      ],
      "execution_count": null,
      "outputs": [
        {
          "output_type": "stream",
          "text": [
            "time: 45.3 s\n"
          ],
          "name": "stdout"
        }
      ]
    },
    {
      "cell_type": "code",
      "metadata": {
        "id": "33_1YFCaOHw3",
        "colab": {
          "base_uri": "https://localhost:8080/"
        },
        "outputId": "bdd2ba2b-0b2d-456d-da30-5e64a0756a9d"
      },
      "source": [
        "y_pred_lgm = np.expm1(estimator.predict(X_test))\n",
        "y_test_lgm = np.expm1(y_test)\n",
        "print(mean_absolute_error(y_pred_lgm, y_test_lgm))"
      ],
      "execution_count": null,
      "outputs": [
        {
          "output_type": "stream",
          "text": [
            "1138.9519112163346\n",
            "time: 625 ms\n"
          ],
          "name": "stdout"
        }
      ]
    }
  ]
}